{
 "cells": [
  {
   "cell_type": "code",
   "execution_count": null,
   "metadata": {},
   "outputs": [],
   "source": [
    "import pandas as pd \n",
    "import numpy as np\n",
    "import matplotlib\n",
    "import matplotlib.pyplot as plt\n",
    "%matplotlib inline \n",
    "import sklearn as sl\n",
    "from sklearn.model_selection import train_test_split\n",
    "from sklearn.tree import DecisionTreeClassifier\n",
    "\n",
    "from sklearn.metrics import classification_report, accuracy_score  \n",
    "from sklearn.metrics import confusion_matrix \n",
    "from sklearn.linear_model import LogisticRegression\n",
    "from sklearn import metrics\n",
    "from sklearn.ensemble import RandomForestClassifier\n",
    "import seaborn as sns"
   ]
  },
  {
   "cell_type": "code",
   "execution_count": null,
   "metadata": {},
   "outputs": [],
   "source": [
    "data_df=pd.read_csv(r'...\\fraudTest.csv')#put the path of the dataset at the place of ... \n",
    "data_df.head()"
   ]
  },
  {
   "cell_type": "code",
   "execution_count": null,
   "metadata": {},
   "outputs": [],
   "source": [
    "data_df.shape"
   ]
  },
  {
   "cell_type": "code",
   "execution_count": null,
   "metadata": {},
   "outputs": [],
   "source": [
    "\n",
    "data_df[['amt','trans_date_trans_time','is_fraud']].describe()"
   ]
  },
  {
   "cell_type": "code",
   "execution_count": null,
   "metadata": {},
   "outputs": [],
   "source": [
    "data_df.columns"
   ]
  },
  {
   "cell_type": "code",
   "execution_count": null,
   "metadata": {},
   "outputs": [],
   "source": [
    "data_df.isna().any()"
   ]
  },
  {
   "cell_type": "code",
   "execution_count": null,
   "metadata": {},
   "outputs": [],
   "source": [
    "null_columns=pd.DataFrame({'Columns':data_df.isna().sum().index,'No. Null values':data_df.isna().sum().values,'Percentage':data_df.isna().sum().values/data_df.shape[0]})\n",
    "null_columns"
   ]
  },
  {
   "cell_type": "code",
   "execution_count": null,
   "metadata": {},
   "outputs": [],
   "source": [
    "data_df['is_fraud'].tail(10)"
   ]
  },
  {
   "cell_type": "code",
   "execution_count": null,
   "metadata": {},
   "outputs": [],
   "source": [
    "nf=0\n",
    "notf=data_df['is_fraud']\n",
    "for i in range(len(notf)):\n",
    "    if notf[i]==0:\n",
    "        nf+=1\n",
    "per_nf=(nf/len(notf))*100\n",
    "print(\"pecentage of not fraud: \",per_nf)"
   ]
  },
  {
   "cell_type": "code",
   "execution_count": null,
   "metadata": {},
   "outputs": [],
   "source": [
    "f=0\n",
    "fd=data_df['is_fraud']\n",
    "for i in range(len(fd)):\n",
    "    if fd[i]==1:\n",
    "        f+=1\n",
    "per_f=(f/len(fd))*100\n",
    "print(\"fraud percentage: \",per_f)"
   ]
  },
  {
   "cell_type": "code",
   "execution_count": null,
   "metadata": {},
   "outputs": [],
   "source": [
    "plot_data=pd.DataFrame()\n",
    "plot_data['fraudulent']=fd\n",
    "plot_data['legitimate']=notf\n",
    "plot_data"
   ]
  },
  {
   "cell_type": "code",
   "execution_count": null,
   "metadata": {},
   "outputs": [],
   "source": [
    "plt.title(\"plot for fraud vs genuine\")\n",
    "sns.barplot(x='fraudulent',y='legitimate',data=plot_data,palette='Blues',edgecolor='w')"
   ]
  },
  {
   "cell_type": "code",
   "execution_count": null,
   "metadata": {},
   "outputs": [],
   "source": [
    "y=data_df['amt']\n",
    "x=data_df['trans_date_trans_time']\n",
    "plt.title('time vs amount')\n",
    "plt.plot(x,y)"
   ]
  },
  {
   "cell_type": "code",
   "execution_count": null,
   "metadata": {},
   "outputs": [],
   "source": [
    "plt.figure(figsize=(10,5),)\n",
    "plt.title('amount destruction')\n",
    "sns.distplot(data_df['amt'],color='red');"
   ]
  },
  {
   "cell_type": "code",
   "execution_count": null,
   "metadata": {},
   "outputs": [],
   "source": [
    "fix, ax=plt.subplots(figsize=(10,8),)\n",
    "ax.scatter(data_df['amt'], data_df['trans_date_trans_time'])\n",
    "ax.set_xlabel('amt')\n",
    "ax.set_ylabel('trans_date_trans_time')\n",
    "plt.title('Transactions')\n",
    "plt.show"
   ]
  },
  {
   "cell_type": "code",
   "execution_count": null,
   "metadata": {},
   "outputs": [],
   "source": [
    "numeric_df = data_df.select_dtypes(include=np.number)\n",
    "correlation_metrics = numeric_df.corr()\n",
    "fig = plt.figure(figsize = (14, 9)) \n",
    "sns.heatmap(correlation_metrics, vmax = .9, square = True) \n",
    "plt.show() "
   ]
  },
  {
   "cell_type": "code",
   "execution_count": null,
   "metadata": {},
   "outputs": [],
   "source": [
    "existing_columns = data_df.columns.tolist()\n",
    "columns_to_drop = ['state','trans_date_trans_time','merchant','category','first','last','gender','street','job','dob','trans_num', 'city'] \n",
    "valid_columns_to_drop = [col for col in columns_to_drop if col in existing_columns]\n",
    "data_df = data_df.drop(valid_columns_to_drop, axis=1)\n",
    "x=data_df.drop(['is_fraud'], axis=1)\n",
    "y=data_df['is_fraud']\n",
    "xtrain, xtest, ytrain, ytest= train_test_split(x,y, test_size=0.2, random_state=42)\n",
    "print(xtrain.dtypes)"
   ]
  },
  {
   "cell_type": "code",
   "execution_count": null,
   "metadata": {},
   "outputs": [],
   "source": [
    "logreg=LogisticRegression()\n",
    "logreg.fit(xtrain, ytrain)"
   ]
  },
  {
   "cell_type": "code",
   "execution_count": null,
   "metadata": {},
   "outputs": [],
   "source": [
    "dt=DecisionTreeClassifier(random_state=42)\n",
    "dt.fit(xtrain,ytrain)"
   ]
  },
  {
   "cell_type": "code",
   "execution_count": null,
   "metadata": {},
   "outputs": [],
   "source": [
    "rf=RandomForestClassifier(n_estimators=100, random_state=42)\n",
    "rf.fit(xtrain,ytrain)"
   ]
  },
  {
   "cell_type": "code",
   "execution_count": null,
   "metadata": {},
   "outputs": [],
   "source": [
    "y_pred1=logreg.predict(xtest)\n",
    "y_pred2=dt.predict(xtest)\n",
    "y_pred3=rf.predict(xtest)"
   ]
  },
  {
   "cell_type": "code",
   "execution_count": null,
   "metadata": {},
   "outputs": [],
   "source": [
    "accuracylr=logreg.score(xtest, ytest)\n",
    "accuracydt=dt.score(xtest, ytest)\n",
    "accuracyrf=rf.score(xtest, ytest)"
   ]
  },
  {
   "cell_type": "code",
   "execution_count": null,
   "metadata": {},
   "outputs": [],
   "source": [
    "cm1=metrics.confusion_matrix(ytest, y_pred1)\n",
    "cm2=metrics.confusion_matrix(ytest, y_pred2)\n",
    "cm3=metrics.confusion_matrix(ytest, y_pred3)\n",
    "print(cm1)\n",
    "print(cm2)\n",
    "print(cm3)"
   ]
  },
  {
   "cell_type": "code",
   "execution_count": null,
   "metadata": {},
   "outputs": [],
   "source": [
    "print(\"Accuracy score for the algorithm logistic reggression: \",accuracylr*100,\"%\")\n",
    "print(\"Accuracy score for the algorithm decision tree: \",accuracydt*100,\"%\")\n",
    "print(\"Accuracy score for the algorithm random forest:\",accuracyrf*100,'%')"
   ]
  }
 ],
 "metadata": {
  "kernelspec": {
   "display_name": "Python 3",
   "language": "python",
   "name": "python3"
  },
  "language_info": {
   "codemirror_mode": {
    "name": "ipython",
    "version": 3
   },
   "file_extension": ".py",
   "mimetype": "text/x-python",
   "name": "python",
   "nbconvert_exporter": "python",
   "pygments_lexer": "ipython3",
   "version": "3.12.7"
  }
 },
 "nbformat": 4,
 "nbformat_minor": 2
}
